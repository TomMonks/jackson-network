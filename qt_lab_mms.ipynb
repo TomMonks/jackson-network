{
 "cells": [
  {
   "cell_type": "markdown",
   "metadata": {},
   "source": [
    "# M/M/s/$\\infty$ queues\n",
    "\n",
    "**In this lab you will learn:**\n",
    "\n",
    "* How to convert M/M/S queuing equations into python functions\n",
    "* How to analyse M/M/s queuing systems to inform health system improvement and design."
   ]
  },
  {
   "cell_type": "code",
   "execution_count": 1,
   "metadata": {},
   "outputs": [],
   "source": [
    "from scipy import math\n",
    "import numpy as np\n",
    "import pandas as pd"
   ]
  },
  {
   "cell_type": "markdown",
   "metadata": {},
   "source": [
    "An **M/M/s** system is a queuing process having Poisson arrival pattern, $s$ servers with $s$ i.i.d expeonential service times.  Service times do not depend on the state of the system.  The system (i.e. queue + service) has infinite capacity and a FIFO queue discipline."
   ]
  },
  {
   "cell_type": "markdown",
   "metadata": {},
   "source": [
    "#### Traffic Intensity\n",
    "\\begin{equation*}\n",
    "\\rho = \\frac{\\lambda}{s\\mu}\n",
    "\\label{eq:rho} \\tag{1}\n",
    "\\end{equation*}\n",
    "\n",
    "#### Inference about the number of patients in the system\n",
    "\n",
    "\\begin{equation*}\n",
    "P_0 = \\left[ \\sum_{n=0}^{s-1} \\frac{\\left(\\lambda/ \\mu \\right)^n}{n!} + \\frac{\\left( \\lambda / \\mu \\right)^s}{s!\\left(1-\\rho\\right)}  \\right]^{-1}\n",
    "\\label{eq:p0} \\tag{2}\n",
    "\\end{equation*}\n",
    "\n",
    "\n",
    "\\begin{equation}\n",
    "  P_n = \\left\\{\n",
    "    \\begin{array}{l}\n",
    "      \\dfrac{\\left( \\lambda / \\mu \\right)^n}{n!}p_0,   \\>\\>\\>\\>  n \\leq s\\\\ \\\\\n",
    "      \\dfrac{\\left( \\lambda / \\mu \\right)^n}{s!s^{n-s}}p_0,  \\>\\>\\>\\> n > s\n",
    "    \\end{array}\n",
    "  \\right.\n",
    "\\label{eq:pn} \\tag{3} \n",
    "\\end{equation}\n",
    "\n",
    "#### Expected number of customers in the queue for service\n",
    "\n",
    "\\begin{equation}\n",
    "L_q = \\frac{p_0\\left(\\lambda / \\mu \\right)^s \\rho}{s!\\left(1 - \\rho\\right)}\n",
    "\\tag{4}\n",
    "\\end{equation}\n",
    "\n",
    "#### Little's Formula\n",
    "\n",
    "\\begin{equation}\n",
    "L_s = \\lambda W_s  \\\\ L_q = \\lambda W_q\n",
    "\\tag{5a, 5b}\n",
    "\\end{equation}\n",
    "\n",
    "\\begin{equation*}\n",
    "    W_s = W_q + \\dfrac{1}{\\mu} \n",
    "    \\tag{6}\n",
    "\\end{equation*}\n",
    "\n",
    "\\begin{equation*}\n",
    "    L_s = L_q + \\dfrac{\\lambda}{\\mu}\n",
    "    \\tag{7}\n",
    "\\end{equation*}"
   ]
  },
  {
   "cell_type": "markdown",
   "metadata": {},
   "source": [
    "# Hospital Pharmacy example\n",
    "\n",
    "During the afternoon, a pharmacy based in a large hospital has 3 trained pharmacists on duty to check and fullfill patient prescriptions for drugs to take home with them at discharge. They are are able to handle 15 transactions per hour. The service times are exponentially distributed. During this busy period, prescriptions arrive at the pharmacy according to a Possion process, at a mean rate of 40 per hour.  \n",
    "\n",
    "**Questions**\n",
    "\n",
    "1. What is the probability that there are more than 3 prescriptions in the pharmacy at any one time\n",
    "2. Calculate the expected number of drug prescriptions waiting to be fulfilled\n",
    "3. Calcluate the expected number of drug prescriptions in the system\n",
    "4. Calculate the expected prescription turnaround time\n",
    "\n",
    "### Example Solution:\n",
    "\n",
    "This is a M/M/3 system with $\\lambda=40$ and $\\mu = 15$\n",
    "\n",
    "#### Is the system in control?\n",
    "\n",
    "Let's first check that steady state conditions hold by calculating the traffic intensity $\\rho$.\n",
    "\n",
    "\\begin{equation}\n",
    "\\rho = \\frac{\\lambda}{s\\mu}\n",
    "\\label{eq:rho} \\tag{1}\n",
    "\\end{equation}\n",
    "\n",
    "Steady state conditions hold if $\\rho < 1$"
   ]
  },
  {
   "cell_type": "code",
   "execution_count": 2,
   "metadata": {},
   "outputs": [],
   "source": [
    "def traffic_intensity(_lambda, mu, s):\n",
    "    '''\n",
    "    calculate the traffic intensity (server utilisation)\n",
    "    of an M/M/s queue\n",
    "    '''\n",
    "    return _lambda / (s * mu)"
   ]
  },
  {
   "cell_type": "code",
   "execution_count": 3,
   "metadata": {},
   "outputs": [
    {
     "data": {
      "text/plain": [
       "0.8888888888888888"
      ]
     },
     "execution_count": 3,
     "metadata": {},
     "output_type": "execute_result"
    }
   ],
   "source": [
    "#calculate traffic intensity\n",
    "LAMBDA = 40\n",
    "MU = 15\n",
    "S = 3\n",
    "\n",
    "rho = traffic_intensity(LAMBDA, S, MU)\n",
    "rho"
   ]
  },
  {
   "cell_type": "markdown",
   "metadata": {},
   "source": [
    "**Conclusion**: $\\rho < 1$ steady state conditions will hold."
   ]
  },
  {
   "cell_type": "markdown",
   "metadata": {},
   "source": [
    "### 1. Calculate the probability that there are 3 drug orders in the pharmacy at any one time\n",
    "\n",
    "Steady state probabilities are given by\n",
    "\n",
    "\\begin{equation*}\n",
    "P_0 = \\left[ \\sum_{n=0}^{s-1} \\frac{\\left(\\lambda/ \\mu \\right)^n}{n!} + \\frac{\\left( \\lambda / \\mu \\right)^s}{s!\\left(1-\\rho\\right)}  \\right]^{-1}\n",
    "\\label{eq:p0} \\tag{2}\n",
    "\\end{equation*}\n",
    "\n",
    "\n",
    "\\begin{equation}\n",
    "  P_n = \\left\\{\n",
    "    \\begin{array}{l}\n",
    "      \\dfrac{\\left( \\lambda / \\mu \\right)^n}{n!}p_0,   \\>\\>\\>\\>  n \\leq s\\\\ \\\\\n",
    "      \\dfrac{\\left( \\lambda / \\mu \\right)^n}{s!s^{n-s}}p_0,  \\>\\>\\>\\> n > s\n",
    "    \\end{array}\n",
    "  \\right.\n",
    "\\label{eq:pn} \\tag{3} \n",
    "\\end{equation}"
   ]
  },
  {
   "cell_type": "code",
   "execution_count": 4,
   "metadata": {},
   "outputs": [],
   "source": [
    "def prob_system_empty(_lambda, mu, s):\n",
    "    '''\n",
    "    The probability that a M/M/s/infinity queue is empty\n",
    "    '''\n",
    "    p0 = 0.0\n",
    "    rho = traffic_intensity(_lambda, mu, s)\n",
    "    \n",
    "    for n in range(s):\n",
    "        p0 += ((_lambda / mu) ** n) / math.factorial(n)\n",
    "\n",
    "    p0 += ((_lambda / mu) ** s) / (math.factorial(s) * (1 - rho))\n",
    "    return p0**-1"
   ]
  },
  {
   "cell_type": "code",
   "execution_count": 5,
   "metadata": {},
   "outputs": [
    {
     "name": "stdout",
     "output_type": "stream",
     "text": [
      "p0 = 0.03\n"
     ]
    }
   ],
   "source": [
    "p0 = prob_system_empty(LAMBDA, MU, S)\n",
    "print(f'p0 = {p0:.2f}')"
   ]
  },
  {
   "cell_type": "code",
   "execution_count": 6,
   "metadata": {},
   "outputs": [],
   "source": [
    "def prob_n_in_system(n, _lambda, mu, s, return_all_solutions=True):\n",
    "    '''\n",
    "    Calculate the probability that n customers\n",
    "    in the system (queuing + service)\n",
    "    \n",
    "    Parameters:\n",
    "    --------\n",
    "    n: int,\n",
    "        Number of customers in the system\n",
    "    \n",
    "    _lambda: float\n",
    "        Mean arrival rate to system\n",
    "        \n",
    "    mu: float\n",
    "        Mean service rate\n",
    "        \n",
    "    s: int\n",
    "        number of servers\n",
    "        \n",
    "    return_all_solutions: bool, optional (default=True)\n",
    "        Returns all solutions for 0,1 ... n\n",
    "        \n",
    "    Returns:\n",
    "    ------\n",
    "        np.ndarray of solutions\n",
    "    \n",
    "    '''\n",
    "    p0 = prob_system_empty(_lambda, mu, s)\n",
    "    probs = [p0]\n",
    "    \n",
    "    #for n <= s\n",
    "    for i in range(1, min(s+1, n+1)):\n",
    "        pn = (((_lambda / mu)**i) / math.factorial(i)) * p0\n",
    "        probs.append(pn)\n",
    "        \n",
    "    #for n > s\n",
    "    for i in range(s+1, n+1):\n",
    "        pn = (((_lambda / mu)**i) / (math.factorial(s) * (s**(n-s)))) * p0\n",
    "        probs.append(pn)\n",
    "    \n",
    "    if return_all_solutions:\n",
    "        return np.array(probs)\n",
    "    else:\n",
    "        return probs[:-1]"
   ]
  },
  {
   "cell_type": "code",
   "execution_count": 7,
   "metadata": {},
   "outputs": [
    {
     "data": {
      "text/plain": [
       "0.29110418830045015"
      ]
     },
     "execution_count": 7,
     "metadata": {},
     "output_type": "execute_result"
    }
   ],
   "source": [
    "prob = prob_n_in_system(3, LAMBDA, MU, S)\n",
    "\n",
    "#returns: [p0, p1, p2, p3] => probabilities of 3 or less drug orders\n",
    "prob.sum()"
   ]
  },
  {
   "cell_type": "code",
   "execution_count": 8,
   "metadata": {},
   "outputs": [
    {
     "name": "stdout",
     "output_type": "stream",
     "text": [
      "P(X > 3) = 0.71\n"
     ]
    }
   ],
   "source": [
    "#prob.sum() => p(X <=3)\n",
    "more_than_three = 1 - prob.sum()\n",
    "print(f'P(X > 3) = {more_than_three:.2f}')"
   ]
  },
  {
   "cell_type": "markdown",
   "metadata": {},
   "source": [
    "### 2. Expected number of drug prescriptions waiting to be fullfilled\n",
    "\n",
    "\n",
    "$L_q$ = Expected number of customers in the queue for service\n",
    "\n",
    "\\begin{equation}\n",
    "L_q = \\frac{p_0\\left(\\lambda / \\mu \\right)^s \\rho}{s!\\left(1 - \\rho\\right)^2}\n",
    "\\tag{4}\n",
    "\\end{equation}"
   ]
  },
  {
   "cell_type": "code",
   "execution_count": 9,
   "metadata": {},
   "outputs": [],
   "source": [
    "def mean_queue_length(_lambda, mu, s):\n",
    "    '''\n",
    "    Mean length of queue Lq\n",
    "    '''\n",
    "    p0 = prob_system_empty(_lambda, mu, s)\n",
    "    rho = traffic_intensity(_lambda, mu, s)\n",
    "    \n",
    "    lq = (p0 * ((_lambda / mu)**s) * rho) / (math.factorial(s) * (1 - rho)**2)\n",
    "    return lq"
   ]
  },
  {
   "cell_type": "code",
   "execution_count": 10,
   "metadata": {},
   "outputs": [],
   "source": [
    "lq = mean_queue_length(LAMBDA, MU, S)"
   ]
  },
  {
   "cell_type": "code",
   "execution_count": 11,
   "metadata": {},
   "outputs": [
    {
     "name": "stdout",
     "output_type": "stream",
     "text": [
      "lq = 6.38\n"
     ]
    }
   ],
   "source": [
    "print(f'lq = {lq:.2f}')"
   ]
  },
  {
   "cell_type": "markdown",
   "metadata": {},
   "source": [
    "### 3. Expected number of drug prescriptions in the system\n",
    "\n",
    "$L_s$ = Expected number of customers in the queue\n",
    "\n",
    "We have already calculated $L_q$ therefore we will use\n",
    "\n",
    "\\begin{equation}\n",
    "L_s = L_q + \\frac{\\lambda}{\\mu}\n",
    "\\tag{5}\n",
    "\\end{equation}"
   ]
  },
  {
   "cell_type": "code",
   "execution_count": 12,
   "metadata": {},
   "outputs": [],
   "source": [
    "ls = lq + (LAMBDA / MU)"
   ]
  },
  {
   "cell_type": "code",
   "execution_count": 13,
   "metadata": {},
   "outputs": [
    {
     "name": "stdout",
     "output_type": "stream",
     "text": [
      "Ls = 9.05\n"
     ]
    }
   ],
   "source": [
    "print(f'Ls = {ls:.2f}')"
   ]
  },
  {
   "cell_type": "markdown",
   "metadata": {},
   "source": [
    "### 4. Expected prescription turnaround time\n",
    "\n",
    "Using:\n",
    "\n",
    "\\begin{equation}\n",
    "L_s = \\lambda W_s\n",
    "\\tag{5}\n",
    "\\end{equation}\n",
    "\n",
    "\n",
    "\\begin{equation}\n",
    "\\frac{L_s}{\\lambda} = W_s\n",
    "\\end{equation}"
   ]
  },
  {
   "cell_type": "code",
   "execution_count": 14,
   "metadata": {},
   "outputs": [],
   "source": [
    "ws = ls / LAMBDA"
   ]
  },
  {
   "cell_type": "code",
   "execution_count": 15,
   "metadata": {},
   "outputs": [
    {
     "name": "stdout",
     "output_type": "stream",
     "text": [
      "Ws = 0.23\n"
     ]
    }
   ],
   "source": [
    "print(f'Ws = {ws:.2f}')"
   ]
  },
  {
   "cell_type": "markdown",
   "metadata": {},
   "source": [
    "## MMsQueue Class\n",
    "\n",
    "A somewhat cleaner way of analytic modelling of queues is to implement a class.  An example implementation is below."
   ]
  },
  {
   "cell_type": "code",
   "execution_count": 16,
   "metadata": {},
   "outputs": [],
   "source": [
    "class MMsQueue(object):\n",
    "    '''\n",
    "    M/M/S/inf/inf/FIFO system\n",
    "    '''\n",
    "    def __init__(self, _lambda, mu, s):\n",
    "        '''\n",
    "        Constructor\n",
    "        \n",
    "        Parameters:\n",
    "        -------\n",
    "        _lambda: float\n",
    "            The arrival rate of customers to the facility\n",
    "            \n",
    "        mu: float\n",
    "            The service rate of the facility\n",
    "            \n",
    "        s: int\n",
    "            The number of servers\n",
    "        '''\n",
    "        self._lambda = _lambda\n",
    "        self.mu = mu\n",
    "        self.s = s\n",
    "        self.rho = self._get_traffic_intensity()\n",
    "        \n",
    "        #create a dict of performance metrics\n",
    "        #solve for L_q then use little's law to calculate remaining KPIs\n",
    "        self.metrics = {}\n",
    "        self.metrics[r'$\\rho$'] = self.rho\n",
    "        self.metrics[r'$L_q$'] = self._get_mean_queue_length()\n",
    "        self.metrics[r'$L_s$'] = self.metrics[r'$L_q$'] + (_lambda / mu)\n",
    "        self.metrics[r'$W_s$'] = self.metrics[r'$L_s$'] / _lambda\n",
    "        self.metrics[r'$W_q$'] = self.metrics[r'$W_s$'] - (1 / mu)\n",
    "        \n",
    "    def _get_traffic_intensity(self):\n",
    "        '''\n",
    "        calculate the traffic intensity (server utilisation)\n",
    "        of an M/M/s queue\n",
    "        '''\n",
    "        return self._lambda / (self.s * self.mu)  \n",
    "    \n",
    "    def _get_mean_queue_length(self):\n",
    "        '''\n",
    "        Mean length of queue Lq\n",
    "        '''\n",
    "        p0 = self.prob_system_empty()\n",
    "       \n",
    "        lq = (p0 * ((self._lambda / self.mu)**self.s) * \n",
    "              self.rho) / (math.factorial(self.s) * (1 - self.rho)**2)\n",
    "        return lq\n",
    "        \n",
    "    def prob_system_empty(self):\n",
    "        '''\n",
    "        The probability that a M/M/s/infinity queue is empty\n",
    "        '''\n",
    "        p0 = 0.0\n",
    "\n",
    "        for n in range(self.s):\n",
    "            p0 += ((self._lambda / self.mu) ** n) / math.factorial(n)\n",
    "\n",
    "        p0 += ((self._lambda / self.mu) ** self.s) / (math.factorial(self.s) \n",
    "                                                      * (1 - self.rho))\n",
    "        return p0**-1\n",
    "    \n",
    "    def prob_n_in_system(self, n, return_all_solutions=True, as_frame=True):\n",
    "        '''\n",
    "        Calculate the probability that n customers\n",
    "        in the system (queuing + service)\n",
    "\n",
    "        Parameters:\n",
    "        --------\n",
    "        n: int,\n",
    "            Number of customers in the system\n",
    "\n",
    "        return_all_solutions: bool, optional (default=True)\n",
    "            Returns all solutions for 0,1 ... n\n",
    "            \n",
    "        as_frame: bool, optional (default=True)\n",
    "            If True, returns all solutions in a pd.DataFrame\n",
    "            else returns all solutions as np.ndarray\n",
    "            has no effect is return_all_solutions == False\n",
    "\n",
    "        Returns:\n",
    "        ------\n",
    "            np.ndarray of solutions\n",
    "\n",
    "        '''\n",
    "        p0 = self.prob_system_empty()\n",
    "        probs = [p0]\n",
    "\n",
    "        #for n <= s\n",
    "        for i in range(1, min(self.s+1, n+1)):\n",
    "            pn = (((self._lambda / self.mu)**i) / math.factorial(i)) * p0\n",
    "            probs.append(pn)\n",
    "\n",
    "        #for n > s\n",
    "        for i in range(self.s+1, n+1):\n",
    "            pn = (((self._lambda / self.mu)**i) / (math.factorial(self.s) \n",
    "                                                   * (self.s**(n-self.s)))) * p0\n",
    "            probs.append(pn)\n",
    "\n",
    "        if return_all_solutions:\n",
    "            results = np.array(probs)\n",
    "            if as_frame:\n",
    "                return pd.DataFrame(results, columns=['P(X=n)'])\n",
    "            else:\n",
    "                return results\n",
    "        else:\n",
    "            return probs[:-1]\n",
    "        \n",
    "    def summary_frame(self):\n",
    "        '''\n",
    "        Return performance metrics\n",
    "        \n",
    "        Returns:\n",
    "        ---------\n",
    "        pd.DataFrame\n",
    "        '''\n",
    "        df = pd.Series(self.metrics).to_frame()\n",
    "        df.columns = ['performance']\n",
    "        return df"
   ]
  },
  {
   "cell_type": "code",
   "execution_count": 17,
   "metadata": {},
   "outputs": [
    {
     "data": {
      "text/html": [
       "<div>\n",
       "<style scoped>\n",
       "    .dataframe tbody tr th:only-of-type {\n",
       "        vertical-align: middle;\n",
       "    }\n",
       "\n",
       "    .dataframe tbody tr th {\n",
       "        vertical-align: top;\n",
       "    }\n",
       "\n",
       "    .dataframe thead th {\n",
       "        text-align: right;\n",
       "    }\n",
       "</style>\n",
       "<table border=\"1\" class=\"dataframe\">\n",
       "  <thead>\n",
       "    <tr style=\"text-align: right;\">\n",
       "      <th></th>\n",
       "      <th>performance</th>\n",
       "    </tr>\n",
       "  </thead>\n",
       "  <tbody>\n",
       "    <tr>\n",
       "      <th>$\\rho$</th>\n",
       "      <td>0.888889</td>\n",
       "    </tr>\n",
       "    <tr>\n",
       "      <th>$L_q$</th>\n",
       "      <td>6.380062</td>\n",
       "    </tr>\n",
       "    <tr>\n",
       "      <th>$L_s$</th>\n",
       "      <td>9.046729</td>\n",
       "    </tr>\n",
       "    <tr>\n",
       "      <th>$W_s$</th>\n",
       "      <td>0.226168</td>\n",
       "    </tr>\n",
       "    <tr>\n",
       "      <th>$W_q$</th>\n",
       "      <td>0.159502</td>\n",
       "    </tr>\n",
       "  </tbody>\n",
       "</table>\n",
       "</div>"
      ],
      "text/plain": [
       "        performance\n",
       "$\\rho$     0.888889\n",
       "$L_q$      6.380062\n",
       "$L_s$      9.046729\n",
       "$W_s$      0.226168\n",
       "$W_q$      0.159502"
      ]
     },
     "execution_count": 17,
     "metadata": {},
     "output_type": "execute_result"
    }
   ],
   "source": [
    "model = MMsQueue(LAMBDA, MU, S)\n",
    "model.summary_frame()"
   ]
  },
  {
   "cell_type": "code",
   "execution_count": 18,
   "metadata": {},
   "outputs": [
    {
     "data": {
      "text/html": [
       "<div>\n",
       "<style scoped>\n",
       "    .dataframe tbody tr th:only-of-type {\n",
       "        vertical-align: middle;\n",
       "    }\n",
       "\n",
       "    .dataframe tbody tr th {\n",
       "        vertical-align: top;\n",
       "    }\n",
       "\n",
       "    .dataframe thead th {\n",
       "        text-align: right;\n",
       "    }\n",
       "</style>\n",
       "<table border=\"1\" class=\"dataframe\">\n",
       "  <thead>\n",
       "    <tr style=\"text-align: right;\">\n",
       "      <th></th>\n",
       "      <th>P(X=n)</th>\n",
       "    </tr>\n",
       "  </thead>\n",
       "  <tbody>\n",
       "    <tr>\n",
       "      <th>0</th>\n",
       "      <td>0.028037</td>\n",
       "    </tr>\n",
       "    <tr>\n",
       "      <th>1</th>\n",
       "      <td>0.074766</td>\n",
       "    </tr>\n",
       "    <tr>\n",
       "      <th>2</th>\n",
       "      <td>0.099688</td>\n",
       "    </tr>\n",
       "    <tr>\n",
       "      <th>3</th>\n",
       "      <td>0.088612</td>\n",
       "    </tr>\n",
       "    <tr>\n",
       "      <th>4</th>\n",
       "      <td>0.026255</td>\n",
       "    </tr>\n",
       "    <tr>\n",
       "      <th>5</th>\n",
       "      <td>0.070014</td>\n",
       "    </tr>\n",
       "  </tbody>\n",
       "</table>\n",
       "</div>"
      ],
      "text/plain": [
       "     P(X=n)\n",
       "0  0.028037\n",
       "1  0.074766\n",
       "2  0.099688\n",
       "3  0.088612\n",
       "4  0.026255\n",
       "5  0.070014"
      ]
     },
     "execution_count": 18,
     "metadata": {},
     "output_type": "execute_result"
    }
   ],
   "source": [
    "model.prob_n_in_system(5)"
   ]
  },
  {
   "cell_type": "code",
   "execution_count": 19,
   "metadata": {},
   "outputs": [
    {
     "data": {
      "text/html": [
       "<div>\n",
       "<style scoped>\n",
       "    .dataframe tbody tr th:only-of-type {\n",
       "        vertical-align: middle;\n",
       "    }\n",
       "\n",
       "    .dataframe tbody tr th {\n",
       "        vertical-align: top;\n",
       "    }\n",
       "\n",
       "    .dataframe thead th {\n",
       "        text-align: right;\n",
       "    }\n",
       "</style>\n",
       "<table border=\"1\" class=\"dataframe\">\n",
       "  <thead>\n",
       "    <tr style=\"text-align: right;\">\n",
       "      <th></th>\n",
       "      <th>performance</th>\n",
       "    </tr>\n",
       "  </thead>\n",
       "  <tbody>\n",
       "    <tr>\n",
       "      <th>$\\rho$</th>\n",
       "      <td>0.333333</td>\n",
       "    </tr>\n",
       "    <tr>\n",
       "      <th>$L_q$</th>\n",
       "      <td>0.083333</td>\n",
       "    </tr>\n",
       "    <tr>\n",
       "      <th>$L_s$</th>\n",
       "      <td>0.750000</td>\n",
       "    </tr>\n",
       "    <tr>\n",
       "      <th>$W_s$</th>\n",
       "      <td>0.375000</td>\n",
       "    </tr>\n",
       "    <tr>\n",
       "      <th>$W_q$</th>\n",
       "      <td>0.041667</td>\n",
       "    </tr>\n",
       "  </tbody>\n",
       "</table>\n",
       "</div>"
      ],
      "text/plain": [
       "        performance\n",
       "$\\rho$     0.333333\n",
       "$L_q$      0.083333\n",
       "$L_s$      0.750000\n",
       "$W_s$      0.375000\n",
       "$W_q$      0.041667"
      ]
     },
     "execution_count": 19,
     "metadata": {},
     "output_type": "execute_result"
    }
   ],
   "source": [
    "#county hospital example\n",
    "model = MMsQueue(2, 3, 2)\n",
    "model.summary_frame()"
   ]
  },
  {
   "cell_type": "code",
   "execution_count": 20,
   "metadata": {},
   "outputs": [
    {
     "data": {
      "text/html": [
       "<div>\n",
       "<style scoped>\n",
       "    .dataframe tbody tr th:only-of-type {\n",
       "        vertical-align: middle;\n",
       "    }\n",
       "\n",
       "    .dataframe tbody tr th {\n",
       "        vertical-align: top;\n",
       "    }\n",
       "\n",
       "    .dataframe thead th {\n",
       "        text-align: right;\n",
       "    }\n",
       "</style>\n",
       "<table border=\"1\" class=\"dataframe\">\n",
       "  <thead>\n",
       "    <tr style=\"text-align: right;\">\n",
       "      <th></th>\n",
       "      <th>P(X=n)</th>\n",
       "    </tr>\n",
       "  </thead>\n",
       "  <tbody>\n",
       "    <tr>\n",
       "      <th>0</th>\n",
       "      <td>0.500000</td>\n",
       "    </tr>\n",
       "    <tr>\n",
       "      <th>1</th>\n",
       "      <td>0.333333</td>\n",
       "    </tr>\n",
       "    <tr>\n",
       "      <th>2</th>\n",
       "      <td>0.111111</td>\n",
       "    </tr>\n",
       "  </tbody>\n",
       "</table>\n",
       "</div>"
      ],
      "text/plain": [
       "     P(X=n)\n",
       "0  0.500000\n",
       "1  0.333333\n",
       "2  0.111111"
      ]
     },
     "execution_count": 20,
     "metadata": {},
     "output_type": "execute_result"
    }
   ],
   "source": [
    "model.prob_n_in_system(2)"
   ]
  }
 ],
 "metadata": {
  "kernelspec": {
   "display_name": "Python 3",
   "language": "python",
   "name": "python3"
  },
  "language_info": {
   "codemirror_mode": {
    "name": "ipython",
    "version": 3
   },
   "file_extension": ".py",
   "mimetype": "text/x-python",
   "name": "python",
   "nbconvert_exporter": "python",
   "pygments_lexer": "ipython3",
   "version": "3.7.7"
  }
 },
 "nbformat": 4,
 "nbformat_minor": 4
}
